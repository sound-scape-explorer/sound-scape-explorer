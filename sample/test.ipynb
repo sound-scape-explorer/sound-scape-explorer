{
 "cells": [
  {
   "cell_type": "code",
   "execution_count": 2,
   "metadata": {},
   "outputs": [],
   "source": [
    "import pandas"
   ]
  },
  {
   "cell_type": "code",
   "execution_count": 3,
   "metadata": {},
   "outputs": [],
   "source": [
    "file = pandas.ExcelWriter(\"../sample/config.xlsx\",mode='a')"
   ]
  },
  {
   "cell_type": "code",
   "execution_count": 4,
   "metadata": {},
   "outputs": [],
   "source": [
    "sheet = file.sheets['Sheet1']\n"
   ]
  },
  {
   "cell_type": "code",
   "execution_count": null,
   "metadata": {},
   "outputs": [],
   "source": [
    "for col in sheet.columns:\n",
    "    print(col)"
   ]
  },
  {
   "cell_type": "code",
   "execution_count": 6,
   "metadata": {},
   "outputs": [],
   "source": [
    "column =  None\n",
    "i = 0\n",
    "for col in sheet.iter_cols():\n",
    "    i+=1 #no i++ :'(\n",
    "    if i==20:\n",
    "        column = col\n",
    "        break\n"
   ]
  },
  {
   "cell_type": "code",
   "execution_count": 7,
   "metadata": {},
   "outputs": [],
   "source": [
    "cellule = column[3]"
   ]
  },
  {
   "cell_type": "code",
   "execution_count": 8,
   "metadata": {},
   "outputs": [
    {
     "data": {
      "text/plain": [
       "'T4'"
      ]
     },
     "execution_count": 8,
     "metadata": {},
     "output_type": "execute_result"
    }
   ],
   "source": [
    "cellule.coordinate\n"
   ]
  },
  {
   "cell_type": "code",
   "execution_count": 9,
   "metadata": {},
   "outputs": [
    {
     "data": {
      "text/plain": [
       "'28AVRIL_site_naturel/20210428T081000_2614231112834446'"
      ]
     },
     "execution_count": 9,
     "metadata": {},
     "output_type": "execute_result"
    }
   ],
   "source": [
    "cellule.value"
   ]
  },
  {
   "cell_type": "code",
   "execution_count": null,
   "metadata": {},
   "outputs": [],
   "source": [
    "for cel in column[2:]:\n",
    "    print(cel.value)"
   ]
  },
  {
   "cell_type": "code",
   "execution_count": 11,
   "metadata": {},
   "outputs": [],
   "source": [
    "cellule.value=\"toto\""
   ]
  },
  {
   "cell_type": "code",
   "execution_count": 15,
   "metadata": {},
   "outputs": [
    {
     "data": {
      "text/plain": [
       "'toto'"
      ]
     },
     "execution_count": 15,
     "metadata": {},
     "output_type": "execute_result"
    }
   ],
   "source": [
    "cellule.value"
   ]
  },
  {
   "cell_type": "code",
   "execution_count": 19,
   "metadata": {},
   "outputs": [
    {
     "ename": "NameError",
     "evalue": "name 'char' is not defined",
     "output_type": "error",
     "traceback": [
      "\u001b[0;31m---------------------------------------------------------------------------\u001b[0m",
      "\u001b[0;31mNameError\u001b[0m                                 Traceback (most recent call last)",
      "\u001b[1;32m/home/enes/Documents/sound-scape-explorer/sample/test.ipynb Cell 12'\u001b[0m in \u001b[0;36m<module>\u001b[0;34m\u001b[0m\n\u001b[0;32m----> <a href='vscode-notebook-cell:/home/enes/Documents/sound-scape-explorer/sample/test.ipynb#ch0000013?line=0'>1</a>\u001b[0m char(\u001b[39m'\u001b[39m\u001b[39mT\u001b[39m\u001b[39m'\u001b[39m)\n",
      "\u001b[0;31mNameError\u001b[0m: name 'char' is not defined"
     ]
    }
   ],
   "source": []
  },
  {
   "cell_type": "code",
   "execution_count": 13,
   "metadata": {},
   "outputs": [
    {
     "ename": "TypeError",
     "evalue": "'Cell' object is not iterable",
     "output_type": "error",
     "traceback": [
      "\u001b[0;31m---------------------------------------------------------------------------\u001b[0m",
      "\u001b[0;31mTypeError\u001b[0m                                 Traceback (most recent call last)",
      "\u001b[1;32m/home/enes/Documents/sound-scape-explorer/sample/test.ipynb Cell 12'\u001b[0m in \u001b[0;36m<module>\u001b[0;34m\u001b[0m\n\u001b[0;32m----> <a href='vscode-notebook-cell:/home/enes/Documents/sound-scape-explorer/sample/test.ipynb#ch0000011?line=0'>1</a>\u001b[0m file\u001b[39m.\u001b[39;49mwrite_cells(cellule,\u001b[39m\"\u001b[39;49m\u001b[39mSheet 1\u001b[39;49m\u001b[39m\"\u001b[39;49m)\n",
      "File \u001b[0;32m~/.local/lib/python3.8/site-packages/pandas/io/excel/_openpyxl.py:460\u001b[0m, in \u001b[0;36mOpenpyxlWriter.write_cells\u001b[0;34m(self, cells, sheet_name, startrow, startcol, freeze_panes)\u001b[0m\n\u001b[1;32m    <a href='file:///~/.local/lib/python3.8/site-packages/pandas/io/excel/_openpyxl.py?line=454'>455</a>\u001b[0m \u001b[39mif\u001b[39;00m validate_freeze_panes(freeze_panes):\n\u001b[1;32m    <a href='file:///~/.local/lib/python3.8/site-packages/pandas/io/excel/_openpyxl.py?line=455'>456</a>\u001b[0m     wks\u001b[39m.\u001b[39mfreeze_panes \u001b[39m=\u001b[39m wks\u001b[39m.\u001b[39mcell(\n\u001b[1;32m    <a href='file:///~/.local/lib/python3.8/site-packages/pandas/io/excel/_openpyxl.py?line=456'>457</a>\u001b[0m         row\u001b[39m=\u001b[39mfreeze_panes[\u001b[39m0\u001b[39m] \u001b[39m+\u001b[39m \u001b[39m1\u001b[39m, column\u001b[39m=\u001b[39mfreeze_panes[\u001b[39m1\u001b[39m] \u001b[39m+\u001b[39m \u001b[39m1\u001b[39m\n\u001b[1;32m    <a href='file:///~/.local/lib/python3.8/site-packages/pandas/io/excel/_openpyxl.py?line=457'>458</a>\u001b[0m     )\n\u001b[0;32m--> <a href='file:///~/.local/lib/python3.8/site-packages/pandas/io/excel/_openpyxl.py?line=459'>460</a>\u001b[0m \u001b[39mfor\u001b[39;00m cell \u001b[39min\u001b[39;00m cells:\n\u001b[1;32m    <a href='file:///~/.local/lib/python3.8/site-packages/pandas/io/excel/_openpyxl.py?line=460'>461</a>\u001b[0m     xcell \u001b[39m=\u001b[39m wks\u001b[39m.\u001b[39mcell(\n\u001b[1;32m    <a href='file:///~/.local/lib/python3.8/site-packages/pandas/io/excel/_openpyxl.py?line=461'>462</a>\u001b[0m         row\u001b[39m=\u001b[39mstartrow \u001b[39m+\u001b[39m cell\u001b[39m.\u001b[39mrow \u001b[39m+\u001b[39m \u001b[39m1\u001b[39m, column\u001b[39m=\u001b[39mstartcol \u001b[39m+\u001b[39m cell\u001b[39m.\u001b[39mcol \u001b[39m+\u001b[39m \u001b[39m1\u001b[39m\n\u001b[1;32m    <a href='file:///~/.local/lib/python3.8/site-packages/pandas/io/excel/_openpyxl.py?line=462'>463</a>\u001b[0m     )\n\u001b[1;32m    <a href='file:///~/.local/lib/python3.8/site-packages/pandas/io/excel/_openpyxl.py?line=463'>464</a>\u001b[0m     xcell\u001b[39m.\u001b[39mvalue, fmt \u001b[39m=\u001b[39m \u001b[39mself\u001b[39m\u001b[39m.\u001b[39m_value_with_fmt(cell\u001b[39m.\u001b[39mval)\n",
      "\u001b[0;31mTypeError\u001b[0m: 'Cell' object is not iterable"
     ]
    }
   ],
   "source": [
    "file.write_cells(cellule,\"Sheet 1\",)\n"
   ]
  }
 ],
 "metadata": {
  "interpreter": {
   "hash": "916dbcbb3f70747c44a77c7bcd40155683ae19c65e1c03b4aa3499c5328201f1"
  },
  "kernelspec": {
   "display_name": "Python 3.8.10 64-bit",
   "language": "python",
   "name": "python3"
  },
  "language_info": {
   "codemirror_mode": {
    "name": "ipython",
    "version": 3
   },
   "file_extension": ".py",
   "mimetype": "text/x-python",
   "name": "python",
   "nbconvert_exporter": "python",
   "pygments_lexer": "ipython3",
   "version": "3.8.10"
  },
  "orig_nbformat": 4
 },
 "nbformat": 4,
 "nbformat_minor": 2
}
